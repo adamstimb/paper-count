{
 "cells": [
  {
   "cell_type": "markdown",
   "metadata": {},
   "source": [
    "# Paper Count\n",
    "\n",
    "How many papers did a journal publish?"
   ]
  },
  {
   "cell_type": "code",
   "execution_count": 1,
   "metadata": {},
   "outputs": [],
   "source": [
    "import os\n",
    "\n",
    "import pandas as pd\n",
    "from sqlalchemy import create_engine, engine, MetaData, Table, select, and_, func\n",
    "from snowflake.sqlalchemy import URL\n",
    "from dotenv import load_dotenv, find_dotenv\n",
    "from ipywidgets import Dropdown, HTML, IntSlider"
   ]
  },
  {
   "cell_type": "code",
   "execution_count": 2,
   "metadata": {},
   "outputs": [],
   "source": [
    "# Get database credentials\n",
    "\n",
    "load_dotenv(find_dotenv())\n",
    "\n",
    "SNOWFLAKE_USER = os.getenv(\"SNOWFLAKE_USER\")\n",
    "SNOWFLAKE_PASSWORD = os.getenv(\"SNOWFLAKE_PASSWORD\")\n",
    "SNOWFLAKE_ACCOUNT = os.getenv(\"SNOWFLAKE_ACCOUNT\")\n",
    "SNOWFLAKE_ROLE = os.getenv(\"SNOWFLAKE_ROLE\")\n",
    "SNOWFLAKE_DATABASE = \"PROD_EDW\"\n",
    "SNOWFLAKE_SCHEMA = \"EBAC\"\n",
    "SNOWFLAKE_WAREHOUSE = os.getenv(\"SNOWFLAKE_WAREHOUSE\")"
   ]
  },
  {
   "cell_type": "code",
   "execution_count": 3,
   "metadata": {},
   "outputs": [],
   "source": [
    "# Create database engine\n",
    "\n",
    "engine = create_engine(\n",
    "    URL(\n",
    "        user=SNOWFLAKE_USER,\n",
    "        password=SNOWFLAKE_PASSWORD,\n",
    "        account=SNOWFLAKE_ACCOUNT,\n",
    "        role=SNOWFLAKE_ROLE,\n",
    "        database=SNOWFLAKE_DATABASE,\n",
    "        schema=SNOWFLAKE_SCHEMA,\n",
    "        warehouse=SNOWFLAKE_WAREHOUSE,\n",
    "    )\n",
    ")"
   ]
  },
  {
   "cell_type": "code",
   "execution_count": 4,
   "metadata": {},
   "outputs": [],
   "source": [
    "# Connect and reflect tables\n",
    "\n",
    "conn = engine.connect()\n",
    "metadata = MetaData()\n",
    "\n",
    "articles = Table(\"DW_ARTICLE_EXTN\", metadata, autoload=True, autoload_with=engine)"
   ]
  },
  {
   "cell_type": "code",
   "execution_count": 5,
   "metadata": {},
   "outputs": [],
   "source": [
    "# Get list of Wiley journals\n",
    "\n",
    "stmt = (\n",
    "    select(\n",
    "        [articles.c.full_source_title])\n",
    "        .where(articles.c.publisher_group == \"WILEY\")\n",
    "    .distinct()\n",
    "    )\n",
    "\n",
    "journal_names = pd.read_sql(stmt, conn)\n",
    "\n",
    "journal_names = journal_names.sort_values(by=\"full_source_title\")\n",
    "\n",
    "journal_list = journal_names[\"full_source_title\"].to_list()"
   ]
  },
  {
   "cell_type": "code",
   "execution_count": 6,
   "metadata": {},
   "outputs": [],
   "source": [
    "# Create a dropdown widget from the list\n",
    "\n",
    "journal_dropdown = Dropdown(options=journal_list, description=\"Journal:\")"
   ]
  },
  {
   "cell_type": "code",
   "execution_count": 7,
   "metadata": {},
   "outputs": [],
   "source": [
    "# Create a year slider widget\n",
    "\n",
    "year_slider = IntSlider(value=2017, min=2011, max=2020, description=\"Year:\")"
   ]
  },
  {
   "cell_type": "code",
   "execution_count": 8,
   "metadata": {},
   "outputs": [],
   "source": [
    "def get_article_count(journal, year):\n",
    "    \"\"\"\n",
    "    Asks Snowflake for how many articles were published by a journal in a year.\n",
    "    \"\"\"\n",
    "    stmt = (\n",
    "    select(\n",
    "        [func.count(articles.c.article_id)])\n",
    "        .where(\n",
    "            and_(articles.c.full_source_title==journal,\n",
    "                articles.c.year_published==year))\n",
    "    )\n",
    "    \n",
    "    df = pd.read_sql(stmt, conn)\n",
    "    \n",
    "    return df.iloc[0,0]"
   ]
  },
  {
   "cell_type": "code",
   "execution_count": 9,
   "metadata": {},
   "outputs": [],
   "source": [
    "# Set the starting output text.\n",
    "\n",
    "article_count_text = HTML(\"Select a journal.\")\n",
    "\n",
    "def update_article_count_text(change):\n",
    "    \"\"\"Handler that is called whenever a journal dropdown or year slider trait changes.\"\"\"\n",
    "    number_articles = get_article_count(journal_dropdown.value, year_slider.value)\n",
    "    article_count_text.value = f\"{journal_dropdown.value} published {number_articles} articles in {year_slider.value}.\"\n",
    "\n",
    "# Execute a callback whenever the Dropdown or Slider inputs change    \n",
    "journal_dropdown.observe(update_article_count_text, 'value')\n",
    "year_slider.observe(update_article_count_text, 'value')"
   ]
  },
  {
   "cell_type": "code",
   "execution_count": 10,
   "metadata": {},
   "outputs": [
    {
     "data": {
      "application/vnd.jupyter.widget-view+json": {
       "model_id": "f7e8ff97c8664fe2b6af8ff40a8d15f0",
       "version_major": 2,
       "version_minor": 0
      },
      "text/plain": [
       "Dropdown(description='Journal:', options=('11TH OESO WORLD CONFERENCE: REFLUX DISEASE', '12TH OESO WORLD CONFE…"
      ]
     },
     "metadata": {},
     "output_type": "display_data"
    },
    {
     "data": {
      "application/vnd.jupyter.widget-view+json": {
       "model_id": "41e4fea6136d4feb8f3234f24adaf2ff",
       "version_major": 2,
       "version_minor": 0
      },
      "text/plain": [
       "IntSlider(value=2017, description='Year:', max=2020, min=2011)"
      ]
     },
     "metadata": {},
     "output_type": "display_data"
    }
   ],
   "source": [
    "# Show the controls\n",
    "\n",
    "display(journal_dropdown)\n",
    "display(year_slider)"
   ]
  },
  {
   "cell_type": "code",
   "execution_count": 11,
   "metadata": {},
   "outputs": [
    {
     "data": {
      "application/vnd.jupyter.widget-view+json": {
       "model_id": "c2e6e43ac4b945269b4479cb1a9ecbbd",
       "version_major": 2,
       "version_minor": 0
      },
      "text/plain": [
       "HTML(value='Select a journal.')"
      ]
     },
     "metadata": {},
     "output_type": "display_data"
    }
   ],
   "source": [
    "# Show the text\n",
    "\n",
    "article_count_text"
   ]
  },
  {
   "cell_type": "code",
   "execution_count": null,
   "metadata": {},
   "outputs": [],
   "source": []
  }
 ],
 "metadata": {
  "kernelspec": {
   "display_name": "Python [conda env:.conda-paper-count]",
   "language": "python",
   "name": "conda-env-.conda-paper-count-py"
  },
  "language_info": {
   "codemirror_mode": {
    "name": "ipython",
    "version": 3
   },
   "file_extension": ".py",
   "mimetype": "text/x-python",
   "name": "python",
   "nbconvert_exporter": "python",
   "pygments_lexer": "ipython3",
   "version": "3.6.8"
  }
 },
 "nbformat": 4,
 "nbformat_minor": 4
}
